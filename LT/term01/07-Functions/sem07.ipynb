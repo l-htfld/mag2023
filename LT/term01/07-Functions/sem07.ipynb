{
 "cells": [
  {
   "cell_type": "markdown",
   "id": "e5c67f3e-469b-4d5b-927f-4d32b6fbb6f9",
   "metadata": {
    "id": "C54uJpgwbRP-"
   },
   "source": [
    "#### Задача 1. \n",
    "\n",
    "Напишите функцию, которая принимает два целых числа a и b и возвращает результат возведения в степень a ** b, только оператором ** пользоваться нельзя, нужно сделать это в цикле!"
   ]
  },
  {
   "cell_type": "code",
   "execution_count": null,
   "id": "c1ecc53e-ddef-4be5-983a-c25ec302e7f4",
   "metadata": {
    "id": "G2d9tUoEbPjr"
   },
   "outputs": [],
   "source": [
    "# your code here"
   ]
  },
  {
   "cell_type": "markdown",
   "id": "56cbc1e4-9079-419b-9c62-242fa5ac2bc6",
   "metadata": {
    "id": "BQTZHFmPbUks"
   },
   "source": [
    "#### Задача 2. \n",
    "\n",
    "Напишите функцию, которая будет принимать слово и проверять, состоит ли оно только из кириллических букв. Функция должна возвращать объект bool (True/False)."
   ]
  },
  {
   "cell_type": "code",
   "execution_count": null,
   "id": "763a75cc-8ec4-4d58-92d4-d9124a51a4fb",
   "metadata": {
    "id": "PewpYgb5bXbt"
   },
   "outputs": [],
   "source": [
    "# your code here"
   ]
  },
  {
   "cell_type": "markdown",
   "id": "b9a6fe6a-d4dc-4aae-99f4-e6aee2cde444",
   "metadata": {
    "id": "OBNLT2MIbX1F"
   },
   "source": [
    "#### Задача 3. \n",
    "\n",
    "Немного расширим задачу 2: пользователь вводит строчку, а потом выбирает, хочет ли он проверить, что она является палиндромом или что она кириллическая. В зависимости от выбора пользователя должна вызываться одна из двух функций."
   ]
  },
  {
   "cell_type": "code",
   "execution_count": null,
   "id": "87a8a305-5394-4e91-afb9-0525b7f87a14",
   "metadata": {
    "id": "OgTX7HcLbai8"
   },
   "outputs": [],
   "source": [
    "# your code here"
   ]
  },
  {
   "cell_type": "markdown",
   "id": "8ad27543-c16c-4e03-92bb-65af6c8663ed",
   "metadata": {
    "id": "j7SgbFR_bdJs"
   },
   "source": [
    "#### Задача 4. \n",
    "\n",
    "Напишите функцию sign, которая принимает целое число и возвращает True, если оно положительное, и False, если оно отрицательное. На 0 можно возвращать NoneType (подумайте, как это сделать?)"
   ]
  },
  {
   "cell_type": "code",
   "execution_count": null,
   "id": "309445db-320c-4009-96aa-e2dcc6fa69f9",
   "metadata": {
    "id": "GmAjUPTVbf88"
   },
   "outputs": [],
   "source": [
    "# your code here"
   ]
  },
  {
   "cell_type": "markdown",
   "id": "64b69365-ed92-460e-a3e5-0d8ecbd2ef1d",
   "metadata": {
    "id": "rkhg0KaxbgUl"
   },
   "source": [
    "#### Задача 5. \n",
    "\n",
    "Напишите функцию, которая делает то же, что функция в задаче 1, но используйте рекурсию."
   ]
  },
  {
   "cell_type": "code",
   "execution_count": null,
   "id": "3438991d-af99-4fdb-a01e-7905c06a1d9b",
   "metadata": {
    "id": "ufWyhdbGbjqU"
   },
   "outputs": [],
   "source": [
    "# your code here"
   ]
  },
  {
   "cell_type": "markdown",
   "id": "7b92dab4-2a01-4319-b00b-51302234fe97",
   "metadata": {
    "id": "A-OsgpSsbkBM"
   },
   "source": [
    "#### Задача 6. \n",
    "\n",
    "Напишите функцию, которая выводит таблицу умножения. Отформатируйте вывод таким образом, чтобы образовалась сеточка из чисел:\n",
    "\n",
    "    1 2 3 4  5\n",
    "    2 4 6 8 10\n",
    "    ...\n",
    "\n",
    "(Мы с вами подобное уже, кажется, делали, теперь достаточно оформить именно в функцию, чтобы можно было рисовать сеточку не до 9, а до такого числа, какое мы в функцию передадим). "
   ]
  },
  {
   "cell_type": "code",
   "execution_count": null,
   "id": "c95b7c31-f6ec-4ef4-bfa2-81e5e617444c",
   "metadata": {
    "id": "QcVBpNacb3S8"
   },
   "outputs": [],
   "source": [
    "# your code here"
   ]
  },
  {
   "cell_type": "markdown",
   "id": "a7ba0f55-f68a-44d6-820d-66c4725899c7",
   "metadata": {
    "id": "TMLSOYfLb3vj"
   },
   "source": [
    "#### Задача 7. \n",
    "\n",
    "Напишите функцию, которая будет принимать числа a и b, делить их и выводить ответ в формате a / b = c, при этом число c должно быть округлено до двух знаков после запятой. Если знаете варианты, как это можно сделать, напишите варианты."
   ]
  },
  {
   "cell_type": "code",
   "execution_count": null,
   "id": "bc9db2d8-5ceb-480f-a446-e0757abe474c",
   "metadata": {
    "id": "lL2OF1Mbb68D"
   },
   "outputs": [],
   "source": [
    "# your code here"
   ]
  },
  {
   "cell_type": "markdown",
   "id": "d7aafdf5-199b-4eb7-abfe-5859703b3302",
   "metadata": {
    "id": "owMhp22Jb7Qs"
   },
   "source": [
    "#### Задача 8. \n",
    "\n",
    "Напишите функцию для подсчета букв в слове: пользователь вводит какую-то строку, а функция должна в форматированном виде вывести, сколько раз встретилась та или иная буква, например:\n",
    "\n",
    "    >>> 'ABBYY'\n",
    "    'A': 1\n",
    "    'B': 2\n",
    "    'Y': 2"
   ]
  },
  {
   "cell_type": "code",
   "execution_count": null,
   "id": "ac74d28c-21e0-423d-8471-4107faa320b4",
   "metadata": {
    "id": "Lnufy8wscBWc"
   },
   "outputs": [],
   "source": [
    "# your code here"
   ]
  }
 ],
 "metadata": {
  "kernelspec": {
   "display_name": "Python 3 (ipykernel)",
   "language": "python",
   "name": "python3"
  },
  "language_info": {
   "codemirror_mode": {
    "name": "ipython",
    "version": 3
   },
   "file_extension": ".py",
   "mimetype": "text/x-python",
   "name": "python",
   "nbconvert_exporter": "python",
   "pygments_lexer": "ipython3",
   "version": "3.9.12"
  }
 },
 "nbformat": 4,
 "nbformat_minor": 5
}
