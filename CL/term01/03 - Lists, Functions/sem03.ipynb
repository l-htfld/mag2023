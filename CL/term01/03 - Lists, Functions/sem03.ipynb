{
 "cells": [
  {
   "cell_type": "markdown",
   "id": "6703f5f8-f71b-483e-89cf-4ffd1e5e6ec0",
   "metadata": {},
   "source": [
    "## Задание 1.\n",
    "\n",
    "Пользователь вводит набор целых чисел через пробелы. Посчитайте сумму из получившегося набора, выведите минимальное и максимальное число. "
   ]
  },
  {
   "cell_type": "code",
   "execution_count": 4,
   "id": "02d8cfd2-eae4-47f7-baf0-bf00476bd7d4",
   "metadata": {
    "tags": []
   },
   "outputs": [
    {
     "name": "stdout",
     "output_type": "stream",
     "text": [
      "Сумма всех чисел списка - 15, максимальное число - 5, минимальное число - 1\n"
     ]
    }
   ],
   "source": [
    "num = input()\n",
    "numlist = [int(i) for i in num.split()]\n",
    "print(f'Сумма всех чисел списка - {sum(numlist)}, максимальное число - {max(numlist)}, минимальное число - {min(numlist)}')"
   ]
  },
  {
   "cell_type": "markdown",
   "id": "09e63457-6749-4bfb-a303-c882324644d7",
   "metadata": {},
   "source": [
    "## Задание 2. \n",
    "\n",
    "Создайте список из чисел от 1 до 10. Вставьте после тройки число 30. Сделайте это двумя способами. "
   ]
  },
  {
   "cell_type": "code",
   "execution_count": 10,
   "id": "8e696754-d285-4ea6-b958-ea205d80502e",
   "metadata": {},
   "outputs": [
    {
     "name": "stdout",
     "output_type": "stream",
     "text": [
      "[1, 2, 3, 4, 5, 6, 7, 8, 9, 10]\n",
      "[1, 2, 3, 30, 4, 5, 6, 7, 8, 9, 10]\n",
      "[1, 2, 3, 30, 4, 5, 6, 7, 8, 9, 10]\n"
     ]
    }
   ],
   "source": [
    "numlist = [i for i in range(1, 11)]\n",
    "print(numlist)\n",
    "numlist.insert(3, 30)\n",
    "print(numlist)\n",
    "print(numlist[:3] + [30] + numlist[4:])"
   ]
  },
  {
   "cell_type": "markdown",
   "id": "027a3593-c6d2-4159-a5ba-bdc51cd71aba",
   "metadata": {},
   "source": [
    "## Задание 3. \n",
    "\n",
    "Дан список, в котором есть повторяющиеся элементы, в т.ч. элемент Х (н-р, какое-то число). Нужно удалить из списка все вхождения элемента Х. "
   ]
  },
  {
   "cell_type": "code",
   "execution_count": 14,
   "id": "36db551f-a3fb-4c0d-a0aa-31b2d23387f4",
   "metadata": {},
   "outputs": [
    {
     "name": "stdout",
     "output_type": "stream",
     "text": [
      "[1, 3, 4, 5]\n"
     ]
    }
   ],
   "source": [
    "numlist = [1, 2, 2, 3, 2, 4, 2, 5, 2]\n",
    "enterlist = [i for i in numlist if i != 2]\n",
    "print(enterlist)"
   ]
  },
  {
   "cell_type": "markdown",
   "id": "55f5eced-64da-460a-b8e4-8f2a66241942",
   "metadata": {},
   "source": [
    "## Задание 4.\n",
    "\n",
    "Пользователь вводит строчку из слов, разделенных пробелами. Отсортируйте слова в алфавитном порядке задом наперед (т.е., яблоко будет первее юлы) и выведите их столбиком (каждое слово на новой строчке)."
   ]
  },
  {
   "cell_type": "code",
   "execution_count": 15,
   "id": "e6ab9489-b559-4053-8892-72b65da659fe",
   "metadata": {},
   "outputs": [
    {
     "name": "stdout",
     "output_type": "stream",
     "text": [
      "яблоко\n",
      "юля\n",
      "тарелка\n",
      "собака\n",
      "кот\n"
     ]
    }
   ],
   "source": [
    "text = input(\"Введите слова через проблел: \")\n",
    "words = text.split()\n",
    "sorted_words = sorted(words, reverse=True)\n",
    "for word in sorted_words:\n",
    "    print(word)"
   ]
  },
  {
   "cell_type": "markdown",
   "id": "5d2e081b-2fe0-4f85-9548-42fb61af4f77",
   "metadata": {},
   "source": [
    "## Задание 5.\n",
    "\n",
    "Напишите функцию, которая вычисляет степень числа (аналогичную оператору \\*\\*, только сам оператор, разумеется, использовать нельзя). "
   ]
  },
  {
   "cell_type": "code",
   "execution_count": 17,
   "id": "6bef021b-13bf-4876-b6c3-321c3d1a8d4b",
   "metadata": {},
   "outputs": [
    {
     "name": "stdout",
     "output_type": "stream",
     "text": [
      "125\n"
     ]
    }
   ],
   "source": [
    "def pow(x, n):\n",
    "    result = 1\n",
    "    for _ in range(n):\n",
    "        result *= x\n",
    "    return result\n",
    "\n",
    "print(pow(5, 3))"
   ]
  },
  {
   "cell_type": "markdown",
   "id": "8693d9ff-bacf-41d8-a766-ad80d0d3ad6f",
   "metadata": {},
   "source": [
    "## Задание 6.\n",
    "\n",
    "Напишите функцию, которая принимает неограниченное количество аргументов-чисел и выводит их квадраты. "
   ]
  },
  {
   "cell_type": "code",
   "execution_count": 18,
   "id": "eb944366-2247-4205-8ced-d804de0806d4",
   "metadata": {},
   "outputs": [
    {
     "name": "stdout",
     "output_type": "stream",
     "text": [
      "4\n",
      "16\n",
      "36\n",
      "64\n"
     ]
    }
   ],
   "source": [
    "def squares(*args):\n",
    "    for num in args:\n",
    "        print(num**2)\n",
    "squares(2, 4, 6, 8)"
   ]
  },
  {
   "cell_type": "markdown",
   "id": "6e74ce47-7453-428f-ba38-64a169147538",
   "metadata": {},
   "source": [
    "## Задание 7.\n",
    "\n",
    "Напишите функцию, которая принимает неограниченное количество аргументов-строк и параметр = метод строки, который затем последовательно применяется к каждой строчке. Результаты можно вернуть списком. Оформите функцию грамотно, напишите docstring. "
   ]
  },
  {
   "cell_type": "code",
   "execution_count": 37,
   "id": "e0164705-bc8b-46de-9686-36a4cb405464",
   "metadata": {},
   "outputs": [
    {
     "data": {
      "text/plain": [
       "['QWERE']"
      ]
     },
     "execution_count": 37,
     "metadata": {},
     "output_type": "execute_result"
    }
   ],
   "source": [
    "def apply_string_method(method, *strings):\n",
    "    \"\"\"\n",
    "    Эта функция применяет на вход параметр-метод сток, который в функцити применчется к каждой строке\n",
    "    \"\"\"\n",
    "    if not hasattr(str, method.__name__):\n",
    "        return\n",
    "    return [method(string) for string in strings]\n",
    "\n",
    "apply_string_method(str.upper, 'qwere')"
   ]
  },
  {
   "cell_type": "markdown",
   "id": "448b4be8-53dd-470a-9a54-a16c4c1c3f71",
   "metadata": {},
   "source": [
    "## Задание 8. \n",
    "\n",
    "Отсортируйте список строчек в зависимости от того, сколько в каждой строке содержится букв а. (н-р, строчки \"мама\", \"арбуз\" и \"абракадабра\" должны выстроиться в \"арбуз\", \"мама\", \"абракадабра\")."
   ]
  },
  {
   "cell_type": "code",
   "execution_count": 38,
   "id": "98d5850a-3fd4-4bbe-a752-0184d2216fca",
   "metadata": {},
   "outputs": [
    {
     "name": "stdout",
     "output_type": "stream",
     "text": [
      "['арбуз', 'мама', 'абракадабра']\n"
     ]
    }
   ],
   "source": [
    "def sorting(*strings):\n",
    "    return sorted(list(strings), key=lambda s: s.count('а'))\n",
    "    \n",
    "print(sorting(\"мама\", \"арбуз\", \"абракадабра\"))"
   ]
  },
  {
   "cell_type": "markdown",
   "id": "3947341a-a5b6-4c06-a58b-5d9de7f3bf5d",
   "metadata": {},
   "source": [
    "## Задание 9. \n",
    "\n",
    "Напишите функцию-генератор, которая будет возвращать новые функции, возводящие в степень N. Т.е., функция-генератор принимает в качестве аргумента число N, а возвращает функцию, которая будет принимать число и возвращать его же в степени N. "
   ]
  },
  {
   "cell_type": "code",
   "execution_count": 40,
   "id": "81d6128f-db52-4ab9-87a1-a788afdaf649",
   "metadata": {
    "tags": []
   },
   "outputs": [
    {
     "data": {
      "text/plain": [
       "32"
      ]
     },
     "execution_count": 40,
     "metadata": {},
     "output_type": "execute_result"
    }
   ],
   "source": [
    "def pow_generator(a):\n",
    "    def pow_func(b):\n",
    "        return b ** a\n",
    "    return pow_func\n",
    "\n",
    "a = pow_generator(5)\n",
    "a(2)"
   ]
  },
  {
   "cell_type": "markdown",
   "id": "213e07ae-9496-4eda-adc0-eaf232793645",
   "metadata": {
    "tags": []
   },
   "source": [
    "## Задание 10. \n",
    "\n",
    "Напишите рекурсивную функцию, которая будет возвращать, является ли строка палиндромом. На вход функция получает строки типа \"абба, \"абсба\" и подобные (пробелов внутри этих строк нет). "
   ]
  },
  {
   "cell_type": "code",
   "execution_count": 33,
   "id": "76521f92",
   "metadata": {},
   "outputs": [
    {
     "name": "stdout",
     "output_type": "stream",
     "text": [
      "True\n"
     ]
    }
   ],
   "source": [
    "def is_palindrome(word):\n",
    "    if len(word) < 2:\n",
    "        return True\n",
    "    if word[0] != word[-1]:\n",
    "        return False\n",
    "    return is_palindrome(word[1:-1])\n",
    "\n",
    "word = \"абба\"\n",
    "print(is_palindrome(word))"
   ]
  },
  {
   "cell_type": "code",
   "execution_count": null,
   "id": "8c84644e",
   "metadata": {},
   "outputs": [],
   "source": []
  }
 ],
 "metadata": {
  "kernelspec": {
   "display_name": "Python 3 (ipykernel)",
   "language": "python",
   "name": "python3"
  },
  "language_info": {
   "codemirror_mode": {
    "name": "ipython",
    "version": 3
   },
   "file_extension": ".py",
   "mimetype": "text/x-python",
   "name": "python",
   "nbconvert_exporter": "python",
   "pygments_lexer": "ipython3",
   "version": "3.8.0"
  }
 },
 "nbformat": 4,
 "nbformat_minor": 5
}
