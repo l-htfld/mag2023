{
 "cells": [
  {
   "cell_type": "markdown",
   "id": "97a792f9-e32d-4409-8db0-5e6cefd7d10a",
   "metadata": {},
   "source": [
    "## Задание 1.\n",
    "\n",
    "Вводится список чисел через пробел. Поменяйте в этом списке самое маленькое и самое большое число местами, н-р, список 4 2 6 3 7 5 должен превратиться в 4 7 6 3 2 5"
   ]
  },
  {
   "cell_type": "code",
   "execution_count": 8,
   "id": "ed6f2b58-0d49-48f9-8443-56ddbf1a395c",
   "metadata": {},
   "outputs": [
    {
     "name": "stdout",
     "output_type": "stream",
     "text": [
      "[9, 2, 3, 4, 5, 6, 7, 8, 1]\n"
     ]
    }
   ],
   "source": [
    "# your code here\n",
    "lst = input()\n",
    "l_num = [int(i) for i in lst.split()]\n",
    "l_num[l_num.index(max(l_num))], l_num[l_num.index(min(l_num))] = l_num[l_num.index(min(l_num))], l_num[l_num.index(max(l_num))]\n",
    "print(l_num)"
   ]
  },
  {
   "cell_type": "markdown",
   "id": "f6cf0459-4d88-4fcd-8ef7-d505e5503f3d",
   "metadata": {},
   "source": [
    "## Задание 2. \n",
    "\n",
    "Вводится список (чего угодно, как угодно). Нужно все элементы поменять местами, н-р, список вида 1 2 3 4 5 превращается в 2 1 4 3 5. "
   ]
  },
  {
   "cell_type": "code",
   "execution_count": 13,
   "id": "5cfe6ac2-acfc-489d-9c17-dfb9c4704351",
   "metadata": {},
   "outputs": [
    {
     "name": "stdout",
     "output_type": "stream",
     "text": [
      "['5', 'git', '1', 'собака', '7', '9', 'кот']\n"
     ]
    }
   ],
   "source": [
    "# your code here\n",
    "import random\n",
    "\n",
    "lst = input()\n",
    "lst = [i for i in lst.split()]\n",
    "lst = sorted(lst, key = lambda x: random.random())\n",
    "print(l)"
   ]
  },
  {
   "cell_type": "markdown",
   "id": "9ba60057-d600-4878-b05d-2adada21b4bb",
   "metadata": {},
   "source": [
    "## Задание 3. \n",
    "\n",
    "Петя перешёл в другую школу. На уроке физкультуры ему понадобилось определить своё место в строю. Помогите ему это сделать.\n",
    "\n",
    "Программа получает на вход невозрастающую последовательность натуральных чисел, означающих рост каждого человека в строю. После этого вводится число X – рост Пети. Все числа во входных данных натуральные и не превышают 200.\n",
    "\n",
    "Выведите номер, под которым Петя должен встать в строй. Если в строю есть люди с одинаковым ростом, таким же, как у Пети, то он должен встать после них."
   ]
  },
  {
   "cell_type": "code",
   "execution_count": 3,
   "id": "a230e7a1-a059-4c08-b496-156934855d12",
   "metadata": {},
   "outputs": [
    {
     "name": "stdout",
     "output_type": "stream",
     "text": [
      "3\n"
     ]
    }
   ],
   "source": [
    "# your code here\n",
    "def pete_position(heights, x):\n",
    "    for i in range(len(heights)):\n",
    "        if heights[i] <= x:\n",
    "            return i + 1\n",
    "    return len(heights)\n",
    "\n",
    "heights = [180, 170, 160, 150, 140]\n",
    "x = 165\n",
    "print(pete_position(heights, x))"
   ]
  },
  {
   "cell_type": "markdown",
   "id": "a103d53d-3682-470c-b469-6b10c1beba67",
   "metadata": {},
   "source": [
    "## Задание 4.\n",
    "\n",
    "Известно, что на доске 8х8 можно расставить 8 ферзей так, чтобы они не били друг друга. Вам дана расстановка 8 ферзей на доске, определите, есть ли среди них пара бьющих друг друга.\n",
    "Программа получает на вход восемь пар чисел, каждое число от 1 до 8 — координаты 8 ферзей. Если ферзи не бьют друг друга, выведите слово NO, иначе выведите YES."
   ]
  },
  {
   "cell_type": "code",
   "execution_count": 4,
   "id": "17332be5-7bec-476a-bf0b-b229a129ff67",
   "metadata": {},
   "outputs": [
    {
     "name": "stdout",
     "output_type": "stream",
     "text": [
      "YES\n"
     ]
    }
   ],
   "source": [
    "# your code here\n",
    "def check_bishops(bishops):\n",
    "    for i in range(8):\n",
    "        for j in range(i + 1, 8):\n",
    "            if abs(bishops[i][0] - bishops[j][0]) == abs(bishops[i][1] - bishops[j][1]):\n",
    "                return \"YES\"\n",
    "            elif bishops[i][0] == bishops[j][0]:\n",
    "                return \"YES\"\n",
    "    return \"NO\"\n",
    "\n",
    "bishops = [(1, 2), (3, 4), (5, 6), (7, 8), (2, 1), (4, 3), (6, 5), (8, 7)]\n",
    "print(check_bishops(bishops))"
   ]
  },
  {
   "cell_type": "markdown",
   "id": "9451e6ee-1ed7-4d33-a6f3-baa2fcd72324",
   "metadata": {},
   "source": [
    "## Задание 5.\n",
    "\n",
    "Дан список. Удалите из списка все повторы, то есть, оставьте в списке каждый элемент только в одном экземпляре (остаться должно только первое появление элемента в списке). Программа не должна использовать дополнительную память: это означает, что нельзя пользоваться множествами и генераторами, можно только производить изменения в самом списке. "
   ]
  },
  {
   "cell_type": "code",
   "execution_count": 5,
   "id": "ef8c93f4-baee-4e7c-b5d9-05d0cabf3198",
   "metadata": {},
   "outputs": [
    {
     "name": "stdout",
     "output_type": "stream",
     "text": [
      "[1, 2, 3, 4]\n"
     ]
    }
   ],
   "source": [
    "# your code here\n",
    "def remove_duplicates(lst):\n",
    "    i = 0\n",
    "    while i < len(lst):\n",
    "        if lst.index(lst[i]) != i:\n",
    "            del lst[lst.index(lst[i])]\n",
    "        else:\n",
    "            i += 1\n",
    "    return lst\n",
    "\n",
    "lst = [1, 2, 2, 3, 3, 3, 4, 4, 4, 4]\n",
    "print(remove_duplicates(lst))"
   ]
  },
  {
   "cell_type": "markdown",
   "id": "30fa8c16-a47f-4175-8d9e-bdcc988f27aa",
   "metadata": {},
   "source": [
    "## Задание 6.\n",
    "\n",
    "На вход программе даётся число N и список. Удалите из списка все элементы, которые встречаются в нём ровно N раз. Программа не должна использовать дополнительную память."
   ]
  },
  {
   "cell_type": "code",
   "execution_count": 6,
   "id": "9762d31a-4152-49cd-85b7-a64ad4714ead",
   "metadata": {},
   "outputs": [
    {
     "name": "stdout",
     "output_type": "stream",
     "text": [
      "[1, 2, 2, 3, 3, 4, 4, 4, 4]\n"
     ]
    }
   ],
   "source": [
    "# your code here\n",
    "def remove_elements(lst, N):\n",
    "    i = 0\n",
    "    while i < len(lst):\n",
    "        if lst.count(lst[i]) == N:\n",
    "            del lst[lst.index(lst[i])]\n",
    "        else:\n",
    "            i += 1\n",
    "    return lst\n",
    "\n",
    "lst = [1, 2, 2, 3, 3, 3, 4, 4, 4, 4]\n",
    "N = 3\n",
    "print(remove_elements(lst, N))"
   ]
  },
  {
   "cell_type": "markdown",
   "id": "331960ba-44ec-4441-b3e1-1831fc9a210d",
   "metadata": {},
   "source": [
    "## \\* Задание 7. \n",
    "\n",
    "На вход программе даётся число X и список чисел. Удалите из списка все вхождения элемента X. Программа должна работать за линейное время. Программа не должна использовать дополнительную память. Код для проверки на линейность уже вписан (если меняете D с 10000 на 100000, время должно увеличиться не больше чем в 10 раз). Такую проверку можно использовать и в скрипте .py. filter использовать нельзя. "
   ]
  },
  {
   "cell_type": "code",
   "execution_count": null,
   "id": "65ae1fb2-9f4e-4490-a220-4135e84d328e",
   "metadata": {},
   "outputs": [],
   "source": [
    "import time\n",
    "\n",
    "D = int(input())\n",
    "L = [1, 2, 1, 2, 3, 4, 5, 6] * D\n",
    "N = int(input())\n",
    "\n",
    "t = time.time()\n",
    "# your code here\n",
    "print(time.time() - t)\n",
    "print(L[:30])"
   ]
  },
  {
   "cell_type": "markdown",
   "id": "d207a91f-57c6-4d13-9a57-80f8a411e0af",
   "metadata": {},
   "source": [
    "## \\* Задание 8.\n",
    "\n",
    "Решите задачу 5 за линейное время. Можно использовать дополнительную память. Для проверки можете использовать код в задаче 7."
   ]
  },
  {
   "cell_type": "code",
   "execution_count": null,
   "id": "b4358ceb-5adc-46f8-897b-a89c1b37fff5",
   "metadata": {},
   "outputs": [],
   "source": [
    "# your code here"
   ]
  },
  {
   "cell_type": "markdown",
   "id": "b5702a70-109c-4d80-9593-11d73152642d",
   "metadata": {},
   "source": [
    "## \\* Задание 9. \n",
    "\n",
    "Решите задачу 6 за линейное время. Можно использовать дополнительную память. "
   ]
  },
  {
   "cell_type": "code",
   "execution_count": null,
   "id": "57049223-d95a-4d6f-a2e1-588d3d3f2571",
   "metadata": {},
   "outputs": [],
   "source": [
    "# your code here"
   ]
  },
  {
   "cell_type": "markdown",
   "id": "caece3be-f46a-4db2-af15-5ca77a74fc00",
   "metadata": {},
   "source": [
    "## Задание 10. \n",
    "\n",
    "Напишите функцию, которая принимает строчку и возвращает порядковые номера всех букв в этой строчке в виде списка (напоминаю, что порядковый номер буквы в юникоде возвращает ord('c')). "
   ]
  },
  {
   "cell_type": "code",
   "execution_count": 7,
   "id": "81629280-20ec-40e2-87f9-39825830661c",
   "metadata": {},
   "outputs": [
    {
     "name": "stdout",
     "output_type": "stream",
     "text": [
      "[104, 101, 108, 108, 111]\n"
     ]
    }
   ],
   "source": [
    "# your code here\n",
    "def get_ordinals(s):\n",
    "    return [ord(c) for c in s]\n",
    "\n",
    "s = \"hello\"\n",
    "print(get_ordinals(s))"
   ]
  }
 ],
 "metadata": {
  "kernelspec": {
   "display_name": "Python 3 (ipykernel)",
   "language": "python",
   "name": "python3"
  },
  "language_info": {
   "codemirror_mode": {
    "name": "ipython",
    "version": 3
   },
   "file_extension": ".py",
   "mimetype": "text/x-python",
   "name": "python",
   "nbconvert_exporter": "python",
   "pygments_lexer": "ipython3",
   "version": "3.8.0"
  }
 },
 "nbformat": 4,
 "nbformat_minor": 5
}
