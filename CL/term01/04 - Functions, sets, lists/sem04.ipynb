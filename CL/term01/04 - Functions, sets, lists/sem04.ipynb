{
 "cells": [
  {
   "cell_type": "markdown",
   "id": "012b6176-02b0-4183-8d8c-92adc4be4c5a",
   "metadata": {},
   "source": [
    "#### Задача 1. \n",
    "\n",
    "Даны четыре действительных числа: x1, y1, x2, y2. Напишите функцию distance(x1, y1, x2, y2), вычисляющая расстояние между точкой (x1, y1) и (x2, y2). Считайте четыре действительных числа и выведите результат работы этой функции."
   ]
  },
  {
   "cell_type": "code",
   "execution_count": 1,
   "id": "7f2ff57d-516a-409c-aee8-4dd64aeb5937",
   "metadata": {},
   "outputs": [
    {
     "name": "stdout",
     "output_type": "stream",
     "text": [
      "1.4142135623730951\n"
     ]
    }
   ],
   "source": [
    "def distance(x1, y1, x2, y2):\n",
    "    return ((x2 - x1) ** 2 + (y2 - y1) ** 2) ** 0.5\n",
    "\n",
    "x1, y1 = 3, 4\n",
    "x2, y2 = 4, 3\n",
    "print(distance(x1, y1, x2, y2))"
   ]
  },
  {
   "cell_type": "markdown",
   "id": "870aa7b6-0198-44f8-8d29-6a6b5690288c",
   "metadata": {},
   "source": [
    "#### Задача 2. \n",
    "\n",
    "Дана последовательность целых чисел, заканчивающаяся числом 0. Выведите эту последовательность в обратном порядке.\n",
    "При решении этой задачи нельзя пользоваться массивами и прочими динамическими структурами данных. Рекурсия вам поможет."
   ]
  },
  {
   "cell_type": "code",
   "execution_count": 3,
   "id": "b8fbf8ed-5d1d-4c7d-914c-25194e142c45",
   "metadata": {},
   "outputs": [
    {
     "name": "stdout",
     "output_type": "stream",
     "text": [
      "5\n",
      "4\n",
      "3\n",
      "2\n",
      "1\n"
     ]
    }
   ],
   "source": [
    "def rev_sequence():\n",
    "    num = int(input())\n",
    "    if num != 0:\n",
    "        rev_sequence()\n",
    "        print(num)\n",
    "\n",
    "rev_sequence()"
   ]
  },
  {
   "cell_type": "markdown",
   "id": "a2bdf0da-7671-4835-b037-aa3db0c86e1b",
   "metadata": {},
   "source": [
    "#### Задача 3. \n",
    "\n",
    "Напишите генераторную функцию, которая будет принимать строку с каким-нибудь длинным предложением и возвращать по одному слову из этого предложения в верхнем регистре. "
   ]
  },
  {
   "cell_type": "code",
   "execution_count": 4,
   "id": "47980b5b-6c31-4dfa-96b1-57d230bb42e3",
   "metadata": {},
   "outputs": [
    {
     "name": "stdout",
     "output_type": "stream",
     "text": [
      "Hello\n",
      "World\n"
     ]
    }
   ],
   "source": [
    "def capitalize_words(sentence):\n",
    "    words = sentence.split()\n",
    "    for word in words:\n",
    "        yield word.capitalize()\n",
    "\n",
    "sentence = \"hello WORLD\"\n",
    "for word in capitalize_words(sentence):\n",
    "    print(word)"
   ]
  },
  {
   "cell_type": "markdown",
   "id": "a51551eb-1d88-4d2a-a7a1-1e14dc713882",
   "metadata": {},
   "source": [
    "#### Задача 4 (\\*). \n",
    "\n",
    "Дан список кортежей, в каждом из которых по два элемента (можно считать его с клавиатуры в цикле while, вводя кортежи парами через пробел). Превратите его в два кортежа, чтобы в первом были только элементы с нулевым индексом, а во втором - с первым. То есть:\n",
    "\n",
    "    [(1, 'a'), (2, 'b')] \n",
    "    должно превратиться в \n",
    "    (1, 2), ('a', 'b')\n",
    "\n",
    "Цикл можно использовать только для считывания с клавиатуры исходного списка. "
   ]
  },
  {
   "cell_type": "code",
   "execution_count": null,
   "id": "92077563-d5e7-4de2-b147-31a15126cb04",
   "metadata": {},
   "outputs": [],
   "source": [
    "# your code here"
   ]
  },
  {
   "cell_type": "markdown",
   "id": "57542689-78e6-4282-b831-722e81a53b8b",
   "metadata": {},
   "source": [
    "#### Задача 5. \n",
    "\n",
    "Дан список слов (можно считать его через одну строку с помощью split()). Без циклов верните список, состоящий из длин этих слов. "
   ]
  },
  {
   "cell_type": "code",
   "execution_count": 6,
   "id": "bca626a6-7644-49f5-83e6-cdbb882aeffa",
   "metadata": {},
   "outputs": [
    {
     "name": "stdout",
     "output_type": "stream",
     "text": [
      "[6, 3, 7]\n"
     ]
    }
   ],
   "source": [
    "word_list = input().split()\n",
    "word_lengths = [len(word) for word in word_list]\n",
    "print(word_lengths)"
   ]
  },
  {
   "cell_type": "markdown",
   "id": "7dbaf89c-2f9c-49b2-ab54-9149c5452565",
   "metadata": {},
   "source": [
    "#### Задача 6. \n",
    "\n",
    "Соберите множество всех кириллических букв любым способом (либо с использованием функций ord() и char(), либо с использованием строк). "
   ]
  },
  {
   "cell_type": "code",
   "execution_count": 8,
   "id": "bb4a40ea-e105-4d0c-b28a-cb0ad1434dca",
   "metadata": {},
   "outputs": [
    {
     "name": "stdout",
     "output_type": "stream",
     "text": [
      "['А', 'Б', 'В', 'Г', 'Д', 'Е', 'Ж', 'З', 'И', 'Й', 'К', 'Л', 'М', 'Н', 'О', 'П', 'Р', 'С', 'Т', 'У', 'Ф', 'Х', 'Ц', 'Ч', 'Ш', 'Щ', 'Ъ', 'Ы', 'Ь', 'Э', 'Ю', 'Я', 'а', 'б', 'в', 'г', 'д', 'е', 'ж', 'з', 'и', 'й', 'к', 'л', 'м', 'н', 'о', 'п', 'р', 'с', 'т', 'у', 'ф', 'х', 'ц', 'ч', 'ш', 'щ', 'ъ', 'ы', 'ь', 'э', 'ю', 'я']\n"
     ]
    }
   ],
   "source": [
    "cyrillic_letters = {chr(code) for code in range(ord('А'), ord('Я') + 1)}\n",
    "cyrillic_letters.update({chr(code) for code in range(ord('а'), ord('я') + 1)})\n",
    "\n",
    "print(sorted(cyrillic_letters))"
   ]
  },
  {
   "cell_type": "markdown",
   "id": "f58c1d07-8c62-49ac-ae2b-bc3ba1fd70bf",
   "metadata": {},
   "source": [
    "#### Задача 7. \n",
    "\n",
    "Воспользуйтесь собранным множеством букв из задачи 2 и напишите функцию, которая будет проверять строку на то, является ли она кириллическим словом. Отфильтруйте список, состоящий из слов, с помощью этой функции таким образом, чтобы остались только кириллические слова. "
   ]
  },
  {
   "cell_type": "code",
   "execution_count": 9,
   "id": "aa727129-530d-4ef6-b3c2-eb81298c928d",
   "metadata": {},
   "outputs": [
    {
     "name": "stdout",
     "output_type": "stream",
     "text": [
      "['Привет', 'мир', 'Программирование']\n"
     ]
    }
   ],
   "source": [
    "def is_cyrillic_word(word):\n",
    "    return all(letter in cyrillic_letters for letter in word)\n",
    "\n",
    "words = ['Привет', 'Hello', 'мир', 'world', 'Программирование', 'programming']\n",
    "\n",
    "cyrillic_words = [word for word in words if is_cyrillic_word(word)]\n",
    "\n",
    "print(cyrillic_words)"
   ]
  },
  {
   "cell_type": "markdown",
   "id": "1ba73d33-e4bd-498f-9866-66bbb068d324",
   "metadata": {},
   "source": [
    "#### Задача 8. \n",
    "\n",
    "Даны два списка чисел. Найдите все числа, которые входят как в первый, так и во второй список, и выведите их в порядке возрастания."
   ]
  },
  {
   "cell_type": "code",
   "execution_count": 10,
   "id": "86aa879c-1d08-4f46-9413-6905c03157ff",
   "metadata": {},
   "outputs": [
    {
     "name": "stdout",
     "output_type": "stream",
     "text": [
      "[2, 3, 4]\n"
     ]
    }
   ],
   "source": [
    "a = [1, 2, 3, 4]\n",
    "b = [2, 3, 4, 5]\n",
    "\n",
    "common_numbers = sorted([num for num in a if num in b])\n",
    "\n",
    "print(common_numbers)"
   ]
  },
  {
   "cell_type": "markdown",
   "id": "f60e2401-7d51-49fb-bb28-8a231f5c6987",
   "metadata": {},
   "source": [
    "#### Задача 9. \n",
    "\n",
    "Напишите функцию lexdiv(), которая считает лексическое разнообразие в тексте. Лексическое разноообразие - это количество уникальных слов, поделенное на количество всех слов в тексте. Посчитайте лексическое разнообразие для любого англоязычного и русскоязычного текста примерно одинаковой длины.\n",
    "\n",
    "Текст можно задать прямо в коде с помощью тройных кавычек. "
   ]
  },
  {
   "cell_type": "code",
   "execution_count": 18,
   "id": "f5b7a998-d3fd-4f2d-910e-9d4165d01f98",
   "metadata": {},
   "outputs": [
    {
     "name": "stdout",
     "output_type": "stream",
     "text": [
      "Лексическое разнообразие на английском: 0.8\n",
      "Лексическое разнообразие на русском: 1.0\n"
     ]
    }
   ],
   "source": [
    "def lexdiv(text):\n",
    "    words = text.lower().split()\n",
    "    unique_words = set(words)\n",
    "    lexical_diversity = len(unique_words) / len(words)\n",
    "    return lexical_diversity\n",
    "\n",
    "english_text = \"hello world hello everybode man\"\n",
    "russian_text = \"Привет, мир, привет всем, здравствуйте!\"\n",
    "english_lexical_diversity = lexdiv(english_text)\n",
    "russian_lexical_diversity = lexdiv(russian_text)\n",
    "\n",
    "print(\"Лексическое разнообразие на английском:\", english_lexical_diversity)\n",
    "print(\"Лексическое разнообразие на русском:\", russian_lexical_diversity)"
   ]
  },
  {
   "cell_type": "markdown",
   "id": "778ba4ca-34cc-40bb-98a4-8c4168b0d02e",
   "metadata": {},
   "source": [
    "#### Задача 10. \n",
    "\n",
    "Напишите функцию printmatrix(), которая будет красиво выводить матрицу в печать. "
   ]
  },
  {
   "cell_type": "code",
   "execution_count": 11,
   "id": "9287bd95-72b6-4b39-9dd7-d21179d8fd87",
   "metadata": {},
   "outputs": [
    {
     "name": "stdout",
     "output_type": "stream",
     "text": [
      "   1   2   3\n",
      "   3   4   5\n",
      "   7   8   9\n"
     ]
    }
   ],
   "source": []
  },
  {
   "cell_type": "markdown",
   "id": "920168d6-c19e-4f57-b15e-399d8644ca7d",
   "metadata": {},
   "source": [
    "#### Задача 11. \n",
    "\n",
    "Напишите функцию generate_unitary(), которая будет генерировать единичную матрицу размера n. Единичная матрица - такая, у которой по диагонали стоят единички, а все остальные числа - нолики, например:\n",
    "\n",
    "    1 0 0 0\n",
    "    0 1 0 0\n",
    "    0 0 1 0\n",
    "    0 0 0 1"
   ]
  },
  {
   "cell_type": "code",
   "execution_count": null,
   "id": "f44be14c-b60a-4f10-a902-069effa4cef6",
   "metadata": {},
   "outputs": [],
   "source": [
    "# your code here"
   ]
  }
 ],
 "metadata": {
  "kernelspec": {
   "display_name": "Python 3 (ipykernel)",
   "language": "python",
   "name": "python3"
  },
  "language_info": {
   "codemirror_mode": {
    "name": "ipython",
    "version": 3
   },
   "file_extension": ".py",
   "mimetype": "text/x-python",
   "name": "python",
   "nbconvert_exporter": "python",
   "pygments_lexer": "ipython3",
   "version": "3.8.0"
  }
 },
 "nbformat": 4,
 "nbformat_minor": 5
}
