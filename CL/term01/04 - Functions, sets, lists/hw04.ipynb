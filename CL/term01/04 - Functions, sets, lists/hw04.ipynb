{
 "cells": [
  {
   "cell_type": "markdown",
   "id": "6bad6b38-eca0-4cfc-ac6a-2723a3cbb50a",
   "metadata": {},
   "source": [
    "#### Задача 1. \n",
    "\n",
    "Ученики одной школы все знают хотя бы по одному языку. Программа получает число школьников, а потом в цикле for собирает сведения о их языках, н-р:\n",
    "\n",
    "    2\n",
    "    English Bulgarian\n",
    "    English Romanian\n",
    "    \n",
    "Нужно узнать, какие языки знает хотя бы один школьник и какие языки знают все школьники."
   ]
  },
  {
   "cell_type": "code",
   "execution_count": 2,
   "id": "660eafc9-7667-441a-954e-a3617941bdfd",
   "metadata": {},
   "outputs": [
    {
     "name": "stdout",
     "output_type": "stream",
     "text": [
      "Языки, которые знает хотя бы один школьник: {'Russian'}\n",
      "Языки, которые знают все школьники: {'Russian'}\n"
     ]
    }
   ],
   "source": [
    "# your code here\n",
    "n = int(input())\n",
    "all_languages = set()\n",
    "languages_per_student = []\n",
    "\n",
    "for i in range(n):\n",
    "    languages = input().split()\n",
    "    all_languages.update(languages)\n",
    "    languages_per_student.append(set(languages))\n",
    "\n",
    "languages_everyone_knows = set.intersection(*languages_per_student)\n",
    "\n",
    "print(\"Языки, которые знает хотя бы один школьник:\", all_languages)\n",
    "print(\"Языки, которые знают все школьники:\", languages_everyone_knows)"
   ]
  },
  {
   "cell_type": "markdown",
   "id": "359818d1-46c4-43c1-b9c6-719cd83c06a7",
   "metadata": {},
   "source": [
    "#### Задача 2. \n",
    "\n",
    "Напишите функцию, которая будет принимать строку, в которой содержится любой текст (положим, русскоязычный), и возвращать список, содержащий только слова (для удаления пунктуации можно воспользоваться punctuation из модуля string, если хочется). Если умеете пользоваться регулярками - можно использовать регулярки. \n",
    "\n",
    "Посчитайте частотный список слов для текста в этой строке. "
   ]
  },
  {
   "cell_type": "code",
   "execution_count": 4,
   "id": "37a6a911-03c9-4fdb-960e-644cfbf55a13",
   "metadata": {},
   "outputs": [],
   "source": [
    "# your code here\n",
    "import re\n",
    "from collections import Counter\n",
    "\n",
    "def get_word_frequencies(text):\n",
    "    words = re.findall(r'\\b\\w+\\b', text)\n",
    "    frequencies = Counter(words)\n",
    "    return frequencies"
   ]
  },
  {
   "cell_type": "code",
   "execution_count": 6,
   "id": "51c0a435",
   "metadata": {},
   "outputs": [
    {
     "name": "stdout",
     "output_type": "stream",
     "text": [
      "Counter({'Привет': 2, 'мир': 2, 'Это': 1, 'пример': 1, 'текста': 1})\n"
     ]
    }
   ],
   "source": [
    "text = \"Привет, мир! Это пример текста. Привет, мир!\"\n",
    "print(get_word_frequencies(text))"
   ]
  },
  {
   "cell_type": "markdown",
   "id": "552bc43b-804b-41d3-a482-35ad54f36e06",
   "metadata": {},
   "source": [
    "#### Задача 3. \n",
    "\n",
    "Положим, у нас есть список со вложенными списками (глубина вложенности может быть какая угодно: это может быть список списков списков...). Напишите функцию, которая будет рекурсивно обходить все элементы в этих списках и посчитает, сколько всего встретилось уникальных элементов. Считаем, что эти элементы - целые числа (вам понадобится проверять type(x) == int). "
   ]
  },
  {
   "cell_type": "code",
   "execution_count": 11,
   "id": "e2059e5b-4491-412f-be9f-ebf3192278d9",
   "metadata": {},
   "outputs": [],
   "source": [
    "# your code here\n",
    "def spiski(lst):\n",
    "    unique_elements = set()\n",
    "\n",
    "    for element in lst:\n",
    "        if isinstance(element, list):\n",
    "            unique_elements.update(spiski(element))\n",
    "        elif isinstance(element, int):\n",
    "            unique_elements.add(element)\n",
    "\n",
    "    return unique_elements"
   ]
  },
  {
   "cell_type": "code",
   "execution_count": 12,
   "id": "008d20bd",
   "metadata": {},
   "outputs": [
    {
     "name": "stdout",
     "output_type": "stream",
     "text": [
      "9\n"
     ]
    }
   ],
   "source": [
    "lst = [1, [2, [3, [4, 5]], 6], 7, [8, 9]]\n",
    "unique_elements = spiski(lst)\n",
    "print(len(unique_elements))"
   ]
  },
  {
   "cell_type": "markdown",
   "id": "be46c202-8887-4cdb-a6c2-acd40c86403f",
   "metadata": {},
   "source": [
    "#### Задача 4. \n",
    "\n",
    "Напишите функцию для сложения матриц."
   ]
  },
  {
   "cell_type": "code",
   "execution_count": 13,
   "id": "c5043381-10a6-4562-860c-0ff22d51c0db",
   "metadata": {},
   "outputs": [],
   "source": [
    "# your code here\n",
    "import numpy as np\n",
    "\n",
    "def plus_matrixes(matrix1, matrix2):\n",
    "\n",
    "    matrix1 = np.array(matrix1)\n",
    "    matrix2 = np.array(matrix2)\n",
    "    \n",
    "    if matrix1.shape != matrix2.shape:\n",
    "        raise ValueError(\"Матрицы должны иметь одинаковые размеры\")\n",
    "    \n",
    "    result = matrix1 + matrix2\n",
    "    \n",
    "    return result"
   ]
  },
  {
   "cell_type": "code",
   "execution_count": 15,
   "id": "c8c20e5e",
   "metadata": {},
   "outputs": [
    {
     "name": "stdout",
     "output_type": "stream",
     "text": [
      "[10 10 10]\n",
      "[10 10 10]\n",
      "[10 10 10]\n"
     ]
    }
   ],
   "source": [
    "matrix1 = [[1, 2, 3], [4, 5, 6], [7, 8, 9]]\n",
    "matrix2 = [[9, 8, 7], [6, 5, 4], [3, 2, 1]]\n",
    "\n",
    "result = plus_matrixes(matrix1, matrix2)\n",
    "\n",
    "for row in result:\n",
    "    print(row)"
   ]
  },
  {
   "cell_type": "markdown",
   "id": "10fcf684-2ee1-4342-9c0a-1c959a473320",
   "metadata": {},
   "source": [
    "#### Задача 5. \n",
    "\n",
    "Напишите функцию для умножения матриц."
   ]
  },
  {
   "cell_type": "code",
   "execution_count": null,
   "id": "8b95b0a2-93c8-4a76-9795-9702a584aa94",
   "metadata": {},
   "outputs": [],
   "source": [
    "# your code here\n",
    "import numpy as np\n",
    "\n",
    "def multiply_matrices(matrix1, matrix2):\n",
    "    \n",
    "    matrix1 = np.array(matrix1)\n",
    "    matrix2 = np.array(matrix2)\n",
    "    \n",
    "    if matrix1.shape[1] != matrix2.shape[0]:\n",
    "        raise ValueError(\"Матрицы должны иметь одинаковые размеры\")\n",
    "    \n",
    "    result = np.dot(matrix1, matrix2)\n",
    "    \n",
    "    return result"
   ]
  },
  {
   "cell_type": "code",
   "execution_count": null,
   "id": "2d0d09f3",
   "metadata": {},
   "outputs": [],
   "source": [
    "matrix1 = [[1, 2, 3], [4, 5, 6], [7, 8, 9]]\n",
    "matrix2 = [[9, 8, 7], [6, 5, 4], [3, 2, 1]]\n",
    "\n",
    "result = mult_matrixes(matrix1, matrix2)\n",
    "\n",
    "for row in result:\n",
    "    print(row)"
   ]
  },
  {
   "cell_type": "markdown",
   "id": "1f145040-6a4e-44e5-a0f0-99d76a8f5413",
   "metadata": {},
   "source": [
    "#### Задача 6. \n",
    "\n",
    "Напишите функцию, которая генерирует [матрицу сдвига](https://ru.wikipedia.org/wiki/%D0%9C%D0%B0%D1%82%D1%80%D0%B8%D1%86%D0%B0_%D1%81%D0%B4%D0%B2%D0%B8%D0%B3%D0%B0). У функции должно быть два параметра: n (размер матрицы) и bias (на сколько столбцов сдвигать)."
   ]
  },
  {
   "cell_type": "code",
   "execution_count": 16,
   "id": "4ba92bad-1317-443f-b737-41ee396c4c7e",
   "metadata": {},
   "outputs": [],
   "source": [
    "# your code here\n",
    "import numpy as np\n",
    "\n",
    "def shift_matrix(n, bias):\n",
    "\n",
    "    matrix = np.zeros((n, n))\n",
    "\n",
    "    for i in range(n):\n",
    "        matrix[:, i] = np.roll(np.arange(1, n+1), bias)\n",
    "\n",
    "    return matrix"
   ]
  },
  {
   "cell_type": "code",
   "execution_count": 17,
   "id": "c85777dd",
   "metadata": {},
   "outputs": [
    {
     "name": "stdout",
     "output_type": "stream",
     "text": [
      "[3. 3. 3. 3.]\n",
      "[4. 4. 4. 4.]\n",
      "[1. 1. 1. 1.]\n",
      "[2. 2. 2. 2.]\n"
     ]
    }
   ],
   "source": [
    "matrix = shift_matrix(4, 2)\n",
    "\n",
    "for row in matrix:\n",
    "    print(row)"
   ]
  },
  {
   "cell_type": "markdown",
   "id": "bbe7efcb-ae28-40ad-935e-b7f231207779",
   "metadata": {},
   "source": [
    "#### Задача 7. \n",
    "\n",
    "Напишите функцию transpose(m), которая будет транспонировать матрицу."
   ]
  },
  {
   "cell_type": "code",
   "execution_count": 19,
   "id": "445846ac-fe77-40f3-92cc-d3e5f719a47e",
   "metadata": {},
   "outputs": [],
   "source": [
    "# your code here\n",
    "def transpose(m):\n",
    "\n",
    "    transposed = [list(i) for i in zip(*m)]\n",
    "\n",
    "    return transposed"
   ]
  },
  {
   "cell_type": "code",
   "execution_count": 20,
   "id": "dce2a03c",
   "metadata": {},
   "outputs": [
    {
     "name": "stdout",
     "output_type": "stream",
     "text": [
      "[1, 4]\n",
      "[2, 5]\n",
      "[3, 6]\n"
     ]
    }
   ],
   "source": [
    "matrix = [[1, 2, 3], [4, 5, 6]]\n",
    "\n",
    "transposed = transpose(matrix)\n",
    "\n",
    "for row in transposed:\n",
    "    print(row)"
   ]
  },
  {
   "cell_type": "markdown",
   "id": "5bc74489-65ad-4854-a223-d22b2fd6e64d",
   "metadata": {},
   "source": [
    "#### Задача 8 (\\*). \n",
    "\n",
    "Жизнь. Напишите игру \"Жизнь\". Что это такое - читайте в википедии и здесь: http://www.michurin.net/online-tools/life-game.html \n",
    "\n",
    "Вообще говоря, это не игра в привычном понимании этого слова, а процесс. В простейшем виде достаточно раз в 0.1 секунды выводить на экран обновлённое поле (обновлять консоль можно с помощью команды os.clear('cls'), модуль os. Для macOS может немного отличаться, погуглите). Для рамочек можно использовать специальные символы для рисования рамочек (найдите в таблице unicode). Пробел - пустая клетка, живая клетка может быть обозначена, например, символом '+'. Начальное поле генерируется случайным образом, вероятность появления жизни в клетке при начальной генерации - должна быть настраиваемым параметром. Размеры поля вводит пользователь при запуске программы. Также должна быть возможность в качестве начальной популяции использовать [R-pentomino](http://www.conwaylife.com/wiki/R-pentomino)."
   ]
  },
  {
   "cell_type": "code",
   "execution_count": null,
   "id": "fbd943ec-39aa-4129-9a60-c5b13f43234c",
   "metadata": {},
   "outputs": [],
   "source": [
    "# your code here"
   ]
  },
  {
   "cell_type": "markdown",
   "id": "a52faff1-12e5-4ae9-97d2-698f9862e58a",
   "metadata": {},
   "source": [
    "#### Задача 9. \n",
    "\n",
    "Рекурсивная генерация последовательностей На вход программе задается два числа N и K. Напечатайте все последовательности длины N, на каждом месте в последовательности может стоять любое число от 1 до K, но нигде подряд не стоит двух одинаковых чисел. Программа должна напечатать все такие последовательности в лексикографическом порядке. Каждая последовательность должна быть напечатана на отдельной строке. Числа в последовательности должны разделяться пробелами.\n",
    "\n",
    "Пример входных данных:\n",
    "\n",
    "    4 3\n",
    "\n",
    "Пример выходных данных:\n",
    "\n",
    "    1 2 1 2\n",
    "    1 2 1 3\n",
    "    1 2 3 1\n",
    "    1 2 3 2\n",
    "    1 3 1 2\n",
    "    1 3 1 3\n",
    "    1 3 2 1\n",
    "    1 3 2 3\n",
    "    2 1 2 1\n",
    "    2 1 2 3\n",
    "    2 1 3 1\n",
    "    2 1 3 2\n",
    "    2 3 1 2\n",
    "    2 3 1 3\n",
    "    2 3 2 1\n",
    "    2 3 2 3\n",
    "    3 1 2 1\n",
    "    3 1 2 3\n",
    "    3 1 3 1\n",
    "    3 1 3 2\n",
    "    3 2 1 2\n",
    "    3 2 1 3\n",
    "    3 2 3 1\n",
    "    3 2 3 2"
   ]
  },
  {
   "cell_type": "code",
   "execution_count": null,
   "id": "6bf0d84f-a7e1-4749-af82-2e7cc0a93a51",
   "metadata": {},
   "outputs": [],
   "source": [
    "# your code here"
   ]
  }
 ],
 "metadata": {
  "kernelspec": {
   "display_name": "Python 3 (ipykernel)",
   "language": "python",
   "name": "python3"
  },
  "language_info": {
   "codemirror_mode": {
    "name": "ipython",
    "version": 3
   },
   "file_extension": ".py",
   "mimetype": "text/x-python",
   "name": "python",
   "nbconvert_exporter": "python",
   "pygments_lexer": "ipython3",
   "version": "3.8.0"
  }
 },
 "nbformat": 4,
 "nbformat_minor": 5
}
